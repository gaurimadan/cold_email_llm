{
 "cells": [
  {
   "cell_type": "code",
   "execution_count": 2,
   "id": "40e2addb-d72d-4d72-b31c-d2a45d245267",
   "metadata": {},
   "outputs": [
    {
     "name": "stdout",
     "output_type": "stream",
     "text": [
      "The first person to walk on the moon was Neil Armstrong. He stepped out of the lunar module Eagle and onto the moon's surface on July 20, 1969, during the Apollo 11 mission. Armstrong famously declared, \"That's one small step for man, one giant leap for mankind,\" as he became the first human to set foot on the moon.\n"
     ]
    }
   ],
   "source": [
    "from langchain_groq import ChatGroq\n",
    "\n",
    "llm = ChatGroq(\n",
    "    model=\"llama-3.3-70b-versatile\",\n",
    "    temperature=0,\n",
    "   groq_api_key='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'\n",
    "    # other params...\n",
    ")\n",
    "response = llm.invoke(\"The first person to walk on moon...\")\n",
    "print(response.content)"
   ]
  },
  {
   "cell_type": "code",
   "execution_count": 12,
   "id": "0aa27a87-646d-4a58-9083-aefce5f452a9",
   "metadata": {},
   "outputs": [
    {
     "name": "stdout",
     "output_type": "stream",
     "text": [
      "First Citizens Bank Is Hiring For Web Developer Or Remote Frontend Development | Job FoundJobFoundRemote JobsBlogAboutJobFoundCopyright © 2024 JobFoundAboutTerms of ServicesPrivacy PolicyContact Us\n"
     ]
    }
   ],
   "source": [
    "from langchain_community.document_loaders import WebBaseLoader\n",
    "\n",
    "loader = WebBaseLoader(\"https://www.jobfound.org/job/first-citizens-bank-is-hiring-for-web-developer-or-remote-frontend-development\")\n",
    "page_data = loader.load().pop().page_content\n",
    "print(page_data)"
   ]
  },
  {
   "cell_type": "code",
   "execution_count": 13,
   "id": "727f405d-4e97-4bbd-b057-30ce06a316a4",
   "metadata": {},
   "outputs": [
    {
     "name": "stdout",
     "output_type": "stream",
     "text": [
      "```json\n",
      "[\n",
      "  {\n",
      "    \"role\": \"Web Developer\",\n",
      "    \"experience\": null,\n",
      "    \"skills\": null,\n",
      "    \"description\": \"Remote Frontend Development\"\n",
      "  }\n",
      "]\n",
      "```\n"
     ]
    }
   ],
   "source": [
    "from langchain_core.prompts import PromptTemplate\n",
    "\n",
    "prompt_extract = PromptTemplate.from_template(\n",
    "        \"\"\"\n",
    "        ### SCRAPED TEXT FROM WEBSITE:\n",
    "        {page_data}\n",
    "        ### INSTRUCTION:\n",
    "        The scraped text is from the career's page of a website.\n",
    "        Your job is to extract the job postings and return them in JSON format containing the \n",
    "        following keys: `role`, `experience`, `skills` and `description`.\n",
    "        Only return the valid JSON.\n",
    "        ### VALID JSON (NO PREAMBLE):    \n",
    "        \"\"\"\n",
    ")\n",
    "\n",
    "chain_extract = prompt_extract | llm \n",
    "res = chain_extract.invoke(input={'page_data':page_data})\n",
    "print(res.content)\n"
   ]
  },
  {
   "cell_type": "code",
   "execution_count": 14,
   "id": "26d324b4-d880-4d54-8a55-83e83bd92f6a",
   "metadata": {},
   "outputs": [
    {
     "data": {
      "text/plain": [
       "[{'role': 'Web Developer',\n",
       "  'experience': None,\n",
       "  'skills': None,\n",
       "  'description': 'Remote Frontend Development'}]"
      ]
     },
     "execution_count": 14,
     "metadata": {},
     "output_type": "execute_result"
    }
   ],
   "source": [
    "from langchain_core.output_parsers import JsonOutputParser\n",
    "json_parser = JsonOutputParser()\n",
    "json_res = json_parser.parse(res.content)\n",
    "json_res\n"
   ]
  },
  {
   "cell_type": "code",
   "execution_count": 15,
   "id": "6625fc4d-d337-42e1-ac24-d5bdba384c18",
   "metadata": {},
   "outputs": [],
   "source": [
    "job=json_res"
   ]
  },
  {
   "cell_type": "code",
   "execution_count": 16,
   "id": "fdc4d238",
   "metadata": {},
   "outputs": [
    {
     "name": "stdout",
     "output_type": "stream",
     "text": [
      "Gauri gaurimadan12@gmail.com | 9518032832 | LinkedIn | Github EDUCATION Maharaja Agrasen Institute of Technology, New Delhi, India 2022-2026 Bachelor of Technology in Computer Science and Technology | CGPA 8.082 WORK EXPERIENCE ProfitCartel (Software Developer) June 2024 - Present ● Constructed 20+ reusable components with Material-UI, achieving a 40% boost in development efficiency and consistent design. ● Enhanced user experience by 30% through dynamic routing and optimized navigation in Next.js. ● Improved performance by 45% with code splitting, lazy loading, and efficient data-fetching strategies, resulting in faster load times. Enord (ROS Intern) May 2023-August 2023 ● Engineered pilotless drone systems for GPS-denied environments by programming obstacle avoidance algorithms using MAVROS and MAVLink, enhancing navigation efficiency by 30%. ● Designed drones using Fusion 360, focusing on precision engineering and aerodynamics. ● Devised a simulation environment in Blender and Gazebo to simulate drone flights. PROJECTS Voice Assistant Using Retell AI - Next.js (React framework) | RestfulAPI| | JavaScript LiveSite ● Designed a voice assistant capable of acting as a doctor, teacher, or other roles based on user-provided prompts. ● Integrated Retell AI to dynamically process and respond to user input across various domains. ● Built and deployed RESTful APIs using Next.js to handle prompt processing and assistant responses. Instagram Account Authenticity Verification System - Python GitHub ● Implemented web scraping techniques to extract and analyze Instagram profile data, collecting key features for improved insights. ● Developed and trained a CNN model to classify accounts as genuine or fake, achieving an accuracy of 85% based on scraped data. ZestAI - Nextjs | NextAuth | MongoDB | Javascript | Axios Live Site ● Created an AI SaaS platform generating 500+ assets (photos, videos, text, music, code), expanding service offerings by 80%. ● Designed optimized databases with Prisma and MongoDB, managing 1000+ user records and API tracking to support scalable growth. ● Employed usage-limiting mechanisms to control API access, reducing potential misuse by 95% and ensuring fair usage across 1000+ active users. ● Built a responsive, user-friendly interface with Shadcn UI, elevating accessibility and increasing user engagement by 60%. ACHIEVEMENTS & CERTIFICATIONS ● Code Kshetra 1.0 hackathon Winner at JIMS February 2024 ● Zero to One hackathon Winner at IIITD April 2023 ● LeanInHacks 4.0 hackathon Winner at IGDTUW February 2024 SKILLS AND COMPETENCIES Languages : Python | Javascript C | Java | Typescript | Javascript Technologies : ROS | Node.js | React.js | Next.js | MongoDB | Supabase | Material UI | Tailwind Tools: REST APIs | NextAuth | Webpack | Github Actions EXTRACURRICULAR TechExtract (Technical Society of MAIT) April 2024 - present Tech Head ● Led technical workshops and society projects, mentoring around 50 students. A.T.O.M (Robotics Society of MAIT) October 2022 - present Member ● Contributed in projects like Line Follower Robot and made its line detection mechanism robust.\n"
     ]
    }
   ],
   "source": [
    "import pdfplumber\n",
    "import re\n",
    "\n",
    "def extract_clean_text(pdf_path):\n",
    "    text = \"\"\n",
    "    with pdfplumber.open(pdf_path) as pdf:\n",
    "        for page in pdf.pages:\n",
    "            page_text = page.extract_text()\n",
    "            if page_text:\n",
    "                text += page_text + \"\\n\"\n",
    "\n",
    "    # Remove extra spaces, newlines, and special characters\n",
    "    clean_text = re.sub(r'\\s+', ' ', text).strip()\n",
    "    \n",
    "    return clean_text\n",
    "\n",
    "pdf_text = extract_clean_text(\"/home/gauri/cold_email_llm/marker/gauri.resume-2.pdf\")\n",
    "print(pdf_text)  \n"
   ]
  },
  {
   "cell_type": "code",
   "execution_count": 17,
   "id": "6feef37b-2634-43d2-92df-b5bbd15a1da9",
   "metadata": {},
   "outputs": [
    {
     "name": "stdout",
     "output_type": "stream",
     "text": [
      "Subject: Application for Remote Frontend Development Position\n",
      "\n",
      "Dear Hiring Manager,\n",
      "\n",
      "I came across the job description for a Web Developer with a focus on Remote Frontend Development, and I am excited to apply for this role. With my strong foundation in computer science and experience in developing efficient and scalable frontend applications, I am confident that I can make a valuable contribution to your team.\n",
      "\n",
      "As a Bachelor of Technology in Computer Science and Technology student at Maharaja Agrasen Institute of Technology, I have developed a solid understanding of programming languages, including Python, JavaScript, and TypeScript. My experience with technologies such as React.js, Next.js, and MongoDB has equipped me with the skills to design and develop responsive, user-friendly interfaces.\n",
      "\n",
      "In my current role as a Software Developer at ProfitCartel, I have constructed over 20 reusable components with Material-UI, achieving a 40% boost in development efficiency and consistent design. I have also enhanced user experience by 30% through dynamic routing and optimized navigation in Next.js. Additionally, I have improved performance by 45% with code splitting, lazy loading, and efficient data-fetching strategies, resulting in faster load times.\n",
      "\n",
      "I have also worked on various personal projects, including a voice assistant using Retell AI and Next.js, an Instagram account authenticity verification system using Python, and a AI SaaS platform called ZestAI using Nextjs, NextAuth, and MongoDB. These projects have given me hands-on experience with RESTful APIs, web scraping, and machine learning.\n",
      "\n",
      "As a detail-oriented and organized individual, I am well-equipped to work remotely and manage my time effectively. I am excited about the opportunity to work with your team and contribute my skills and experience to deliver high-quality frontend applications.\n",
      "\n",
      "I have attached my resume for your reference. Please feel free to contact me at gaurimadan12@gmail.com or 9518032832 to discuss my application. You can also find me on LinkedIn and Github.\n",
      "\n",
      "Thank you for considering my application. I look forward to the opportunity to discuss my qualifications further.\n",
      "\n",
      "Best regards,\n",
      "Gauri\n"
     ]
    }
   ],
   "source": [
    "prompt_email = PromptTemplate.from_template(\n",
    "        \"\"\"\n",
    "        ### JOB DESCRIPTION:\n",
    "        {job_description}\n",
    "        \n",
    "        ### INSTRUCTION:\n",
    "        You are Gauri, an engineering student at MAIT, Delhi. You are seeking job at great firms all over the world\n",
    "        Your job is to write a cold email to the client regarding the job mentioned above describing your capabilities \n",
    "        in fulfilling their needs based on th resume that is {pdf_text}.\n",
    "        Remember you are Gauri, CSE major at MAIT\n",
    "        Do not provide a preamble.\n",
    "        ### EMAIL (NO PREAMBLE):\n",
    "        \n",
    "        \"\"\"\n",
    "        )\n",
    "\n",
    "chain_email = prompt_email | llm\n",
    "res = chain_email.invoke({\"job_description\": str(job),\"pdf_text\":pdf_text})\n",
    "print(res.content)"
   ]
  }
 ],
 "metadata": {
  "kernelspec": {
   "display_name": "Python 3",
   "language": "python",
   "name": "python3"
  },
  "language_info": {
   "codemirror_mode": {
    "name": "ipython",
    "version": 3
   },
   "file_extension": ".py",
   "mimetype": "text/x-python",
   "name": "python",
   "nbconvert_exporter": "python",
   "pygments_lexer": "ipython3",
   "version": "3.10.12"
  }
 },
 "nbformat": 4,
 "nbformat_minor": 5
}
